{
 "cells": [
  {
   "cell_type": "code",
   "execution_count": 1,
   "metadata": {
    "id": "r8176lOEzOji"
   },
   "outputs": [],
   "source": [
    "import requests\n",
    "from bs4 import BeautifulSoup\n",
    "import pandas as pd\n",
    "import re"
   ]
  },
  {
   "cell_type": "markdown",
   "metadata": {},
   "source": [
    "## Web scraping for  job listings from the CareerJet website from the locations USA and Canada"
   ]
  },
  {
   "cell_type": "code",
   "execution_count": null,
   "metadata": {
    "id": "H79SEc8wzRUB"
   },
   "outputs": [],
   "source": [
    "start_page = 1\n",
    "max_pages = 100\n",
    "location = \"USA\"  #Canada\n",
    "\n",
    "list_to_df = []\n",
    "\n",
    "headers = {\n",
    "    'User-Agent': 'Mozilla/5.0 (Windows NT 10.0; Win64; x64) AppleWebKit/537.36 (KHTML, like Gecko) Chrome/113.0.0.0 Safari/537.36'\n",
    "}\n",
    "\n",
    "session = requests.Session()\n",
    "for page in range(max_pages):\n",
    "\n",
    "# https://www.careerjet.ca/jobs?s=&l=         ---> Canda\n",
    "  url = f\"https://www.careerjet.com/jobs/{location}?p={page}\"\n",
    "  try:\n",
    "      response = session.get(url, headers=headers)\n",
    "      response.raise_for_status()\n",
    "\n",
    "      soup = BeautifulSoup(response.text, 'html.parser')\n",
    "      job_tags = soup.find_all('article')\n",
    "\n",
    "      for job in job_tags:\n",
    "          title = job.find('a', title=True)['title'] if job.find('a',title=True) else \"None\"\n",
    "          company = job.find('p', class_='company').get_text(strip=True) if job.find('p', class_='company') else \"None\"\n",
    "          link = job.find('a', href=True)['href'] if job.find('a', href=True) else \"None\"\n",
    "          link = link if link.startswith('http') else 'https://www.careerjet.com' + link\n",
    "\n",
    "          list_to_df.append({\n",
    "              \"Title\": title,\n",
    "              \"Company\": company,\n",
    "              \"Link\": link\n",
    "          })\n",
    "\n",
    "  except requests.exceptions.RequestException as e:\n",
    "      print(f\"Failed to retrieve HTML content for page {page}. Error: {e}\")\n",
    "\n",
    "df = pd.DataFrame(list_to_df)\n",
    "df = df.drop_duplicates(subset=['Title', 'Link'])\n",
    "\n",
    "\n",
    "df['Description'] = pd.Series(dtype='str')\n",
    "\n",
    "\n",
    "for index, row in df.iterrows():\n",
    "    job_link = row[\"Link\"]\n",
    "\n",
    "    try:\n",
    "        response = session.get(job_link, headers=headers)\n",
    "        response.raise_for_status()\n",
    "        soup = BeautifulSoup(response.content, 'html.parser')\n",
    "\n",
    "\n",
    "        description_tag = soup.find('section', class_=\"content\")\n",
    "\n",
    "        full_description = description_tag.get_text(strip=True) if description_tag else \"None\"\n",
    "        df.at[index, 'Description'] = full_description\n",
    "\n",
    "    except requests.exceptions.RequestException as e:\n",
    "        print(f\"Failed to retrieve description for {job_link}. Error: {e}\")\n",
    "        df.at[index, 'Description'] = \"None\"\n",
    "\n",
    "\n",
    "df.to_csv('USA_data.csv', index=False)"
   ]
  },
  {
   "cell_type": "code",
   "execution_count": null,
   "metadata": {
    "id": "g_fdsjQ3cDCf"
   },
   "outputs": [],
   "source": []
  }
 ],
 "metadata": {
  "colab": {
   "provenance": []
  },
  "kernelspec": {
   "display_name": "Python 3 (ipykernel)",
   "language": "python",
   "name": "python3"
  },
  "language_info": {
   "codemirror_mode": {
    "name": "ipython",
    "version": 3
   },
   "file_extension": ".py",
   "mimetype": "text/x-python",
   "name": "python",
   "nbconvert_exporter": "python",
   "pygments_lexer": "ipython3",
   "version": "3.11.5"
  }
 },
 "nbformat": 4,
 "nbformat_minor": 1
}
